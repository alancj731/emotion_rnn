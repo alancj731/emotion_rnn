{
 "cells": [
  {
   "cell_type": "markdown",
   "metadata": {},
   "source": [
    "# Objective:\n",
    "\n",
    "To create a model that can identify the emotion (joy, sadness, anger or fear) of a tweet."
   ]
  },
  {
   "cell_type": "markdown",
   "metadata": {},
   "source": [
    "# Data:\n",
    "\n",
    "The dataset is available at Emotion Classification NLP | Kaggle . Acknowledgment: WASSA-2017 Shared Task on Emotion Intensity. Saif M. Mohammad and Felipe Bravo-Marquez. In Proceedings of the EMNLP 2017 Workshop on Computational Approaches to Subjectivity, Sentiment, and Social Media (WASSA), September 2017, Copenhagen, Denmark."
   ]
  },
  {
   "cell_type": "markdown",
   "metadata": {},
   "source": [
    "# Problem statement\n",
    "\n",
    "Identifying the emotion behind human text is an important part of NLP for various applications including customer review analysis and artificial intelligence. The owner of Twitter, Elon Musk has fired everyone who understood emotion classification of tweets because they were not \"hard core\" enough, and now their existing model is no longer working. As a new employee, your job is to develop a model that can classify the emotional connotation behind tweets. Mr. Musk does not disclose why this is needed but laughs eerily whenever asked about it."
   ]
  },
  {
   "cell_type": "code",
   "execution_count": 149,
   "metadata": {},
   "outputs": [],
   "source": [
    "#import statements\n",
    "import numpy as np\n",
    "import pandas as pd"
   ]
  },
  {
   "cell_type": "code",
   "execution_count": null,
   "metadata": {},
   "outputs": [],
   "source": [
    "import numpy as np\n",
    "import pandas as pd\n",
    "import gdown"
   ]
  },
  {
   "cell_type": "code",
   "execution_count": null,
   "metadata": {},
   "outputs": [],
   "source": [
    "# download data files from google drive\n",
    "gdown.download(f\"https://drive.google.com/uc?id=1QoO08uJw3VQY14xCGZs1Pt4p1BgVIGZv\", output='train.csv', quiet=True)\n",
    "gdown.download(f\"https://drive.google.com/uc?id=1YUevp2keDrKeQAoHgb1IH6_jqkX7tylh\", output='val.csv', quiet=True)\n",
    "gdown.download(f\"https://drive.google.com/uc?id=1N2xgBYRbpleSKVwcvvY992xNwisFO7YX\", output='test.csv', quiet=True)"
   ]
  },
  {
   "cell_type": "code",
   "execution_count": 150,
   "metadata": {},
   "outputs": [],
   "source": [
    "# load the data into training, testing and validation.\n",
    "train_df = pd.read_csv(\"train.csv\")\n",
    "test_df = pd.read_csv(\"test.csv\")\n",
    "val_df = pd.read_csv(\"val.csv\")"
   ]
  },
  {
   "cell_type": "code",
   "execution_count": 151,
   "metadata": {},
   "outputs": [
    {
     "data": {
      "text/html": [
       "<div>\n",
       "<style scoped>\n",
       "    .dataframe tbody tr th:only-of-type {\n",
       "        vertical-align: middle;\n",
       "    }\n",
       "\n",
       "    .dataframe tbody tr th {\n",
       "        vertical-align: top;\n",
       "    }\n",
       "\n",
       "    .dataframe thead th {\n",
       "        text-align: right;\n",
       "    }\n",
       "</style>\n",
       "<table border=\"1\" class=\"dataframe\">\n",
       "  <thead>\n",
       "    <tr style=\"text-align: right;\">\n",
       "      <th></th>\n",
       "      <th>text</th>\n",
       "      <th>label</th>\n",
       "    </tr>\n",
       "  </thead>\n",
       "  <tbody>\n",
       "    <tr>\n",
       "      <th>0</th>\n",
       "      <td>Just got back from seeing @GaryDelaney in Burs...</td>\n",
       "      <td>joy</td>\n",
       "    </tr>\n",
       "    <tr>\n",
       "      <th>1</th>\n",
       "      <td>Oh dear an evening of absolute hilarity I don'...</td>\n",
       "      <td>joy</td>\n",
       "    </tr>\n",
       "    <tr>\n",
       "      <th>2</th>\n",
       "      <td>Been waiting all week for this game ❤️❤️❤️ #ch...</td>\n",
       "      <td>joy</td>\n",
       "    </tr>\n",
       "    <tr>\n",
       "      <th>3</th>\n",
       "      <td>@gardiner_love : Thank you so much, Gloria! Yo...</td>\n",
       "      <td>joy</td>\n",
       "    </tr>\n",
       "    <tr>\n",
       "      <th>4</th>\n",
       "      <td>I feel so blessed to work with the family that...</td>\n",
       "      <td>joy</td>\n",
       "    </tr>\n",
       "    <tr>\n",
       "      <th>...</th>\n",
       "      <td>...</td>\n",
       "      <td>...</td>\n",
       "    </tr>\n",
       "    <tr>\n",
       "      <th>3608</th>\n",
       "      <td>@VivienLloyd Thank you so much! Just home - st...</td>\n",
       "      <td>sadness</td>\n",
       "    </tr>\n",
       "    <tr>\n",
       "      <th>3609</th>\n",
       "      <td>Just put the winter duvet on ☃️❄️🌬☔️</td>\n",
       "      <td>sadness</td>\n",
       "    </tr>\n",
       "    <tr>\n",
       "      <th>3610</th>\n",
       "      <td>@SilkInSide @TommyJoeRatliff that's so pretty!...</td>\n",
       "      <td>sadness</td>\n",
       "    </tr>\n",
       "    <tr>\n",
       "      <th>3611</th>\n",
       "      <td>@BluesfestByron second artist announcement loo...</td>\n",
       "      <td>sadness</td>\n",
       "    </tr>\n",
       "    <tr>\n",
       "      <th>3612</th>\n",
       "      <td>I can literally eat creamy pesto pasta topped ...</td>\n",
       "      <td>sadness</td>\n",
       "    </tr>\n",
       "  </tbody>\n",
       "</table>\n",
       "<p>3613 rows × 2 columns</p>\n",
       "</div>"
      ],
      "text/plain": [
       "                                                   text    label\n",
       "0     Just got back from seeing @GaryDelaney in Burs...      joy\n",
       "1     Oh dear an evening of absolute hilarity I don'...      joy\n",
       "2     Been waiting all week for this game ❤️❤️❤️ #ch...      joy\n",
       "3     @gardiner_love : Thank you so much, Gloria! Yo...      joy\n",
       "4     I feel so blessed to work with the family that...      joy\n",
       "...                                                 ...      ...\n",
       "3608  @VivienLloyd Thank you so much! Just home - st...  sadness\n",
       "3609              Just put the winter duvet on ☃️❄️🌬☔️   sadness\n",
       "3610  @SilkInSide @TommyJoeRatliff that's so pretty!...  sadness\n",
       "3611  @BluesfestByron second artist announcement loo...  sadness\n",
       "3612  I can literally eat creamy pesto pasta topped ...  sadness\n",
       "\n",
       "[3613 rows x 2 columns]"
      ]
     },
     "execution_count": 151,
     "metadata": {},
     "output_type": "execute_result"
    }
   ],
   "source": [
    "train_df"
   ]
  },
  {
   "cell_type": "code",
   "execution_count": 152,
   "metadata": {},
   "outputs": [
    {
     "data": {
      "text/html": [
       "<div>\n",
       "<style scoped>\n",
       "    .dataframe tbody tr th:only-of-type {\n",
       "        vertical-align: middle;\n",
       "    }\n",
       "\n",
       "    .dataframe tbody tr th {\n",
       "        vertical-align: top;\n",
       "    }\n",
       "\n",
       "    .dataframe thead th {\n",
       "        text-align: right;\n",
       "    }\n",
       "</style>\n",
       "<table border=\"1\" class=\"dataframe\">\n",
       "  <thead>\n",
       "    <tr style=\"text-align: right;\">\n",
       "      <th></th>\n",
       "      <th>text</th>\n",
       "      <th>label</th>\n",
       "    </tr>\n",
       "  </thead>\n",
       "  <tbody>\n",
       "    <tr>\n",
       "      <th>0</th>\n",
       "      <td>You must be knowing #blithe means (adj.)  Happ...</td>\n",
       "      <td>joy</td>\n",
       "    </tr>\n",
       "    <tr>\n",
       "      <th>1</th>\n",
       "      <td>Old saying 'A #smile shared is one gained for ...</td>\n",
       "      <td>joy</td>\n",
       "    </tr>\n",
       "    <tr>\n",
       "      <th>2</th>\n",
       "      <td>Bridget Jones' Baby was bloody hilarious 😅 #Br...</td>\n",
       "      <td>joy</td>\n",
       "    </tr>\n",
       "    <tr>\n",
       "      <th>3</th>\n",
       "      <td>@Elaminova sparkling water makes your life spa...</td>\n",
       "      <td>joy</td>\n",
       "    </tr>\n",
       "    <tr>\n",
       "      <th>4</th>\n",
       "      <td>I'm tired of everybody telling me to chill out...</td>\n",
       "      <td>joy</td>\n",
       "    </tr>\n",
       "    <tr>\n",
       "      <th>...</th>\n",
       "      <td>...</td>\n",
       "      <td>...</td>\n",
       "    </tr>\n",
       "    <tr>\n",
       "      <th>3137</th>\n",
       "      <td>Why does Candice constantly pout #GBBO 💄😒</td>\n",
       "      <td>sadness</td>\n",
       "    </tr>\n",
       "    <tr>\n",
       "      <th>3138</th>\n",
       "      <td>@redBus_in #unhappy with #redbus CC, when I ta...</td>\n",
       "      <td>sadness</td>\n",
       "    </tr>\n",
       "    <tr>\n",
       "      <th>3139</th>\n",
       "      <td>@AceOperative789 no pull him afew weeks ago, s...</td>\n",
       "      <td>sadness</td>\n",
       "    </tr>\n",
       "    <tr>\n",
       "      <th>3140</th>\n",
       "      <td>I'm buying art supplies and I'm debating how s...</td>\n",
       "      <td>sadness</td>\n",
       "    </tr>\n",
       "    <tr>\n",
       "      <th>3141</th>\n",
       "      <td>@sainsburys Could you ask your Chafford Hundre...</td>\n",
       "      <td>sadness</td>\n",
       "    </tr>\n",
       "  </tbody>\n",
       "</table>\n",
       "<p>3142 rows × 2 columns</p>\n",
       "</div>"
      ],
      "text/plain": [
       "                                                   text    label\n",
       "0     You must be knowing #blithe means (adj.)  Happ...      joy\n",
       "1     Old saying 'A #smile shared is one gained for ...      joy\n",
       "2     Bridget Jones' Baby was bloody hilarious 😅 #Br...      joy\n",
       "3     @Elaminova sparkling water makes your life spa...      joy\n",
       "4     I'm tired of everybody telling me to chill out...      joy\n",
       "...                                                 ...      ...\n",
       "3137          Why does Candice constantly pout #GBBO 💄😒  sadness\n",
       "3138  @redBus_in #unhappy with #redbus CC, when I ta...  sadness\n",
       "3139  @AceOperative789 no pull him afew weeks ago, s...  sadness\n",
       "3140  I'm buying art supplies and I'm debating how s...  sadness\n",
       "3141  @sainsburys Could you ask your Chafford Hundre...  sadness\n",
       "\n",
       "[3142 rows x 2 columns]"
      ]
     },
     "execution_count": 152,
     "metadata": {},
     "output_type": "execute_result"
    }
   ],
   "source": [
    "test_df"
   ]
  },
  {
   "cell_type": "code",
   "execution_count": 153,
   "metadata": {},
   "outputs": [
    {
     "data": {
      "text/html": [
       "<div>\n",
       "<style scoped>\n",
       "    .dataframe tbody tr th:only-of-type {\n",
       "        vertical-align: middle;\n",
       "    }\n",
       "\n",
       "    .dataframe tbody tr th {\n",
       "        vertical-align: top;\n",
       "    }\n",
       "\n",
       "    .dataframe thead th {\n",
       "        text-align: right;\n",
       "    }\n",
       "</style>\n",
       "<table border=\"1\" class=\"dataframe\">\n",
       "  <thead>\n",
       "    <tr style=\"text-align: right;\">\n",
       "      <th></th>\n",
       "      <th>text</th>\n",
       "      <th>label</th>\n",
       "    </tr>\n",
       "  </thead>\n",
       "  <tbody>\n",
       "    <tr>\n",
       "      <th>0</th>\n",
       "      <td>@theclobra lol I thought maybe, couldn't decid...</td>\n",
       "      <td>joy</td>\n",
       "    </tr>\n",
       "    <tr>\n",
       "      <th>1</th>\n",
       "      <td>Nawaz Sharif is getting more funnier than @kap...</td>\n",
       "      <td>joy</td>\n",
       "    </tr>\n",
       "    <tr>\n",
       "      <th>2</th>\n",
       "      <td>Nawaz Sharif is getting more funnier than @kap...</td>\n",
       "      <td>joy</td>\n",
       "    </tr>\n",
       "    <tr>\n",
       "      <th>3</th>\n",
       "      <td>@tomderivan73 😁...I'll just people watch and e...</td>\n",
       "      <td>joy</td>\n",
       "    </tr>\n",
       "    <tr>\n",
       "      <th>4</th>\n",
       "      <td>I love my family so much #lucky #grateful #sma...</td>\n",
       "      <td>joy</td>\n",
       "    </tr>\n",
       "    <tr>\n",
       "      <th>...</th>\n",
       "      <td>...</td>\n",
       "      <td>...</td>\n",
       "    </tr>\n",
       "    <tr>\n",
       "      <th>342</th>\n",
       "      <td>Common app just randomly logged me out as I wa...</td>\n",
       "      <td>sadness</td>\n",
       "    </tr>\n",
       "    <tr>\n",
       "      <th>343</th>\n",
       "      <td>I'd rather laugh with the rarest genius, in be...</td>\n",
       "      <td>sadness</td>\n",
       "    </tr>\n",
       "    <tr>\n",
       "      <th>344</th>\n",
       "      <td>If you #invest in my new #film I will stop ask...</td>\n",
       "      <td>sadness</td>\n",
       "    </tr>\n",
       "    <tr>\n",
       "      <th>345</th>\n",
       "      <td>Just watched Django Unchained, Other people ma...</td>\n",
       "      <td>sadness</td>\n",
       "    </tr>\n",
       "    <tr>\n",
       "      <th>346</th>\n",
       "      <td>@KeithOlbermann depressing how despicable Trum...</td>\n",
       "      <td>sadness</td>\n",
       "    </tr>\n",
       "  </tbody>\n",
       "</table>\n",
       "<p>347 rows × 2 columns</p>\n",
       "</div>"
      ],
      "text/plain": [
       "                                                  text    label\n",
       "0    @theclobra lol I thought maybe, couldn't decid...      joy\n",
       "1    Nawaz Sharif is getting more funnier than @kap...      joy\n",
       "2    Nawaz Sharif is getting more funnier than @kap...      joy\n",
       "3    @tomderivan73 😁...I'll just people watch and e...      joy\n",
       "4    I love my family so much #lucky #grateful #sma...      joy\n",
       "..                                                 ...      ...\n",
       "342  Common app just randomly logged me out as I wa...  sadness\n",
       "343  I'd rather laugh with the rarest genius, in be...  sadness\n",
       "344  If you #invest in my new #film I will stop ask...  sadness\n",
       "345  Just watched Django Unchained, Other people ma...  sadness\n",
       "346  @KeithOlbermann depressing how despicable Trum...  sadness\n",
       "\n",
       "[347 rows x 2 columns]"
      ]
     },
     "execution_count": 153,
     "metadata": {},
     "output_type": "execute_result"
    }
   ],
   "source": [
    "val_df"
   ]
  },
  {
   "cell_type": "code",
   "execution_count": 154,
   "metadata": {},
   "outputs": [
    {
     "name": "stdout",
     "output_type": "stream",
     "text": [
      "<class 'pandas.core.frame.DataFrame'>\n",
      "RangeIndex: 3613 entries, 0 to 3612\n",
      "Data columns (total 2 columns):\n",
      " #   Column  Non-Null Count  Dtype \n",
      "---  ------  --------------  ----- \n",
      " 0   text    3613 non-null   object\n",
      " 1   label   3613 non-null   object\n",
      "dtypes: object(2)\n",
      "memory usage: 56.6+ KB\n"
     ]
    }
   ],
   "source": [
    "# Use pandas.DataFrame.info to check if the entries are the correct datatype for each dataframe.\n",
    "train_df.info()"
   ]
  },
  {
   "cell_type": "code",
   "execution_count": 155,
   "metadata": {},
   "outputs": [
    {
     "name": "stdout",
     "output_type": "stream",
     "text": [
      "<class 'pandas.core.frame.DataFrame'>\n",
      "RangeIndex: 3142 entries, 0 to 3141\n",
      "Data columns (total 2 columns):\n",
      " #   Column  Non-Null Count  Dtype \n",
      "---  ------  --------------  ----- \n",
      " 0   text    3142 non-null   object\n",
      " 1   label   3142 non-null   object\n",
      "dtypes: object(2)\n",
      "memory usage: 49.2+ KB\n"
     ]
    }
   ],
   "source": [
    "test_df.info()"
   ]
  },
  {
   "cell_type": "code",
   "execution_count": 156,
   "metadata": {},
   "outputs": [
    {
     "name": "stdout",
     "output_type": "stream",
     "text": [
      "<class 'pandas.core.frame.DataFrame'>\n",
      "RangeIndex: 347 entries, 0 to 346\n",
      "Data columns (total 2 columns):\n",
      " #   Column  Non-Null Count  Dtype \n",
      "---  ------  --------------  ----- \n",
      " 0   text    347 non-null    object\n",
      " 1   label   347 non-null    object\n",
      "dtypes: object(2)\n",
      "memory usage: 5.5+ KB\n"
     ]
    }
   ],
   "source": [
    "val_df.info()"
   ]
  },
  {
   "cell_type": "code",
   "execution_count": 157,
   "metadata": {},
   "outputs": [
    {
     "name": "stdout",
     "output_type": "stream",
     "text": [
      "Duplicate entries in train_df: 0\n",
      "Duplicate entries in test_df: 0\n",
      "Duplicate entries in val_df: 0\n"
     ]
    }
   ],
   "source": [
    "# Use pandas.DataFrame.duplicates to check for duplicate entries.\n",
    "\n",
    "print(\"Duplicate entries in train_df:\", train_df.duplicated().sum())\n",
    "print(\"Duplicate entries in test_df:\", test_df.duplicated().sum())\n",
    "print(\"Duplicate entries in val_df:\", val_df.duplicated().sum())"
   ]
  },
  {
   "cell_type": "markdown",
   "metadata": {},
   "source": [
    "### Use markdown to make observations and explain what you have done.\n",
    "\n",
    "As we can see above, when we checked for duplicates in the three dataframes we found that there are none. Additionally, having used the .info() we where able to see that all three dataframes share the same data type (object)."
   ]
  },
  {
   "cell_type": "code",
   "execution_count": 158,
   "metadata": {},
   "outputs": [
    {
     "name": "stdout",
     "output_type": "stream",
     "text": [
      "Label Mapping:\n",
      "{'anger': 0, 'fear': 1, 'joy': 2, 'sadness': 3}\n"
     ]
    }
   ],
   "source": [
    "from sklearn.preprocessing import LabelEncoder\n",
    "\n",
    "# Move labels into a separate DataFrame\n",
    "train_labels = train_df[['label']]\n",
    "test_labels = test_df[['label']]\n",
    "val_labels = val_df[['label']]\n",
    "\n",
    "# Initialize the LabelEncoder\n",
    "label_encoder = LabelEncoder()\n",
    "\n",
    "# Fit and transform the labels\n",
    "train_labels_encoded = label_encoder.fit_transform(train_labels['label'])\n",
    "test_labels_encoded = label_encoder.transform(test_labels['label'])\n",
    "val_labels_encoded = label_encoder.transform(val_labels['label'])\n",
    "\n",
    "# Reshape the labels into a 2D array\n",
    "train_labels_2d = train_labels_encoded.reshape(-1, 1)\n",
    "test_labels_2d = test_labels_encoded.reshape(-1, 1)\n",
    "val_labels_2d = val_labels_encoded.reshape(-1, 1)\n",
    "\n",
    "# Determine which number has been assigned to each label\n",
    "label_mapping = dict(zip(label_encoder.classes_, label_encoder.transform(label_encoder.classes_)))\n",
    "\n",
    "# Print the mapping\n",
    "print(\"Label Mapping:\")\n",
    "print(label_mapping)  "
   ]
  },
  {
   "cell_type": "markdown",
   "metadata": {},
   "source": [
    "###  Determine which number has been assigned to each label and record this information in markdown.\n",
    "\n",
    "After moving the labels into a seperate dataframe we then initializing the LabelEncoder. We then fit and transform the labels to turn them into numerical values. After that we reshape them into a 2D arrays with a single column. Finally, we then need to determine which number is attached to which label. We do this by creating a dictionary and using the zip function that pairs each unique label with its corresponding encoded value.\n",
    "\n",
    "We can see that 'anger' is paired to 0, 'fear' to 1, 'joy' to 2, and 'sadness' to 3."
   ]
  },
  {
   "cell_type": "code",
   "execution_count": 159,
   "metadata": {},
   "outputs": [
    {
     "data": {
      "image/png": "[encoded data removed]",
      "text/plain": [
       "<Figure size 1000x600 with 1 Axes>"
      ]
     },
     "metadata": {},
     "output_type": "display_data"
    }
   ],
   "source": [
    "# Create a bar plot using seaborn.barplot of the number of elements in each category\n",
    "\n",
    "import seaborn as sns\n",
    "import matplotlib.pyplot as plt\n",
    "\n",
    "# Concatenate labels from all datasets\n",
    "all_labels = pd.concat([train_labels, test_labels, val_labels])\n",
    "\n",
    "# Count the number of elements in each category\n",
    "label_counts = all_labels['label'].value_counts()\n",
    "\n",
    "# Create a bar plot using seaborn\n",
    "plt.figure(figsize=(10, 6))\n",
    "sns.barplot(x=label_counts.index, y=label_counts.values, palette=\"viridis\")\n",
    "plt.title('Number of Elements in Each Category')\n",
    "plt.xlabel('Category')\n",
    "plt.ylabel('Number of Elements')\n",
    "plt.show()"
   ]
  },
  {
   "cell_type": "markdown",
   "metadata": {},
   "source": [
    "### Use markdown to comment on how well balanced the dataset is.\n",
    "\n",
    "Based on the bar plot above, we can see that we don't have a even dataset. We can see that fear leads our dataset with over 2000 classified as fear. We then have anger with around 1600- 1700, joy with around 1600 and, sadness with the lowest count sitting at around 1500."
   ]
  },
  {
   "cell_type": "markdown",
   "metadata": {},
   "source": [
    "### Perform the following steps on the tweets in an order of your choosing:\n",
    "Tokenize each tweet into words.\n",
    "\n",
    "\n",
    "If you think it is useful, use Speller from the autocorrect library to correct spelling mistakes. \n",
    "\n",
    "\n",
    "Create a list of stopwords (using publicly available lists and/or adding your own) and remove these.\n",
    "\n",
    "\n",
    "Use PorterStemmer or WordNetLemmatizer from nltk.stem on the text.\n",
    "\n",
    "\n",
    "Use regular expressions (the re library) to do any additional cleanup of the text you wish to do."
   ]
  },
  {
   "cell_type": "code",
   "execution_count": 160,
   "metadata": {},
   "outputs": [
    {
     "name": "stdout",
     "output_type": "stream",
     "text": [
      "[nltk_data] Downloading package punkt to\n",
      "[nltk_data]     C:\\Users\\danie\\AppData\\Roaming\\nltk_data...\n",
      "[nltk_data]   Package punkt is already up-to-date!\n",
      "[nltk_data] Downloading package stopwords to\n",
      "[nltk_data]     C:\\Users\\danie\\AppData\\Roaming\\nltk_data...\n",
      "[nltk_data]   Package stopwords is already up-to-date!\n"
     ]
    },
    {
     "data": {
      "text/plain": [
       "True"
      ]
     },
     "execution_count": 160,
     "metadata": {},
     "output_type": "execute_result"
    }
   ],
   "source": [
    "import nltk\n",
    "from nltk import tokenize\n",
    "from nltk.stem import PorterStemmer\n",
    "from nltk.stem import WordNetLemmatizer\n",
    "from nltk.corpus import stopwords\n",
    "from string import punctuation\n",
    "# from autocorrect import Speller\n",
    "from nltk.tokenize import word_tokenize\n",
    "nltk.download('punkt')\n",
    "nltk.download(\"stopwords\")"
   ]
  },
  {
   "cell_type": "code",
   "execution_count": 161,
   "metadata": {},
   "outputs": [],
   "source": [
    "# a helper function to get value of column \"text\"\n",
    "def get_TXT(df):\n",
    "  return df[\"text\"].values\n",
    "# get data in form of ndarray\n",
    "data_train = get_TXT(train_df)\n",
    "data_val = get_TXT(val_df)\n",
    "data_test = get_TXT(test_df)"
   ]
  },
  {
   "cell_type": "code",
   "execution_count": 162,
   "metadata": {},
   "outputs": [],
   "source": [
    "# prepare stop words set\n",
    "stop_nltk = stopwords.words(\"english\")\n",
    "stop_final = stop_nltk + list(punctuation)\n",
    "# define a function to drop stop words\n",
    "def drop_stop(input_tokens):\n",
    "    return [token for token in input_tokens if token not in stop_final]\n",
    "# create a PorterStemmer\n",
    "stemmer_p = PorterStemmer()"
   ]
  },
  {
   "cell_type": "code",
   "execution_count": 163,
   "metadata": {},
   "outputs": [],
   "source": [
    "# a helper function to pre-process data\n",
    "def prepare_data(data):\n",
    "  data_tokens = [word_tokenize(comment.lower()) for comment in data]\n",
    "  data_tokens_no_stop = [drop_stop(sent) for sent in data_tokens]\n",
    "  data_tokens_stem = [[stemmer_p.stem(token) for token in sent] for sent in data_tokens_no_stop]\n",
    "  data_texts = [\" \".join(txt) for txt in data_tokens_stem]\n",
    "  return data_texts"
   ]
  },
  {
   "cell_type": "markdown",
   "metadata": {},
   "source": [
    "### f. Print out the words in the first five processed tweets along with their \n",
    "\n",
    "---\n",
    "\n",
    "labels. (Viewing this may give you additional ideas for the previous steps.)"
   ]
  },
  {
   "cell_type": "code",
   "execution_count": 164,
   "metadata": {},
   "outputs": [
    {
     "name": "stdout",
     "output_type": "stream",
     "text": [
      "Tokenlized: got back see garydelaney burslem amaz face still hurt laugh much hilari\n",
      "Label: [2] 'joy'\n",
      "Tokenlized: oh dear even absolut hilar n't think laugh much long time 😂\n",
      "Label: [2] 'joy'\n",
      "Tokenlized: wait week game ❤️❤️❤️ cheer friday ❤️\n",
      "Label: [2] 'joy'\n",
      "Tokenlized: gardiner_lov thank much gloria 're sweet thought made day joy love 😊💕\n",
      "Label: [2] 'joy'\n",
      "Tokenlized: feel bless work famili nanni ❤️ noth love amp appreci make smile\n",
      "Label: [2] 'joy'\n"
     ]
    }
   ],
   "source": [
    "# transfer X_train and see the result\n",
    "TXT_train = prepare_data(data_train)\n",
    "# a helper function to convert label number to label string\n",
    "label_content = ['anger', 'fear', 'joy', 'sadness']\n",
    "get_content = lambda x: label_content[x]\n",
    "# show first 5 text and labels\n",
    "for i in range(5):\n",
    "  print(f'Tokenlized: {TXT_train[i]}')\n",
    "  print(f\"Label: {train_labels_2d[i]} '{get_content(train_labels_2d[i][0])}'\")"
   ]
  },
  {
   "cell_type": "code",
   "execution_count": 165,
   "metadata": {},
   "outputs": [],
   "source": [
    "# transfer val and test data\n",
    "TXT_val = prepare_data(data_val)\n",
    "TXT_test = prepare_data(data_test)"
   ]
  },
  {
   "cell_type": "code",
   "execution_count": 166,
   "metadata": {},
   "outputs": [],
   "source": [
    "from tensorflow.keras.preprocessing.text import Tokenizer"
   ]
  },
  {
   "cell_type": "code",
   "execution_count": 167,
   "metadata": {},
   "outputs": [],
   "source": [
    "# initiate a Tokenizer with 10000 vocab size\n",
    "vocab_size = 10000\n",
    "tok = Tokenizer(num_words=vocab_size)"
   ]
  },
  {
   "cell_type": "code",
   "execution_count": 168,
   "metadata": {},
   "outputs": [],
   "source": [
    "# fit the tok\n",
    "tok.fit_on_texts(TXT_train)"
   ]
  },
  {
   "cell_type": "code",
   "execution_count": 169,
   "metadata": {},
   "outputs": [],
   "source": [
    "# get train, val and test sequence\n",
    "train_sequences = tok.texts_to_sequences(TXT_train)\n",
    "val_sequences = tok.texts_to_sequences(TXT_val)\n",
    "test_sequences = tok.texts_to_sequences(TXT_test)"
   ]
  },
  {
   "cell_type": "code",
   "execution_count": 170,
   "metadata": {},
   "outputs": [
    {
     "name": "stdout",
     "output_type": "stream",
     "text": [
      "[34, 41, 31, 2250, 2251, 53, 97, 29, 351, 110, 61, 128]\n"
     ]
    }
   ],
   "source": [
    "# display the sequence value\n",
    "print(train_sequences[0])"
   ]
  },
  {
   "cell_type": "markdown",
   "metadata": {},
   "source": [
    "g. Create a histogram showing the lengths of the sequences after preprocessing. Comment on how this helps you to choose the maximum length hyperparameter used when truncating/padding the input sequences."
   ]
  },
  {
   "cell_type": "code",
   "execution_count": 171,
   "metadata": {},
   "outputs": [],
   "source": [
    "# get length of each comments in train sequences\n",
    "seq_lens = [len(seq) for seq in train_sequences]"
   ]
  },
  {
   "cell_type": "code",
   "execution_count": 172,
   "metadata": {},
   "outputs": [
    {
     "data": {
      "image/png": "[encoded data removed]",
      "text/plain": [
       "<Figure size 640x480 with 1 Axes>"
      ]
     },
     "metadata": {},
     "output_type": "display_data"
    }
   ],
   "source": [
    "plt.hist(seq_lens)\n",
    "plt.show()"
   ]
  },
  {
   "cell_type": "markdown",
   "metadata": {},
   "source": [
    "From the histogram of the length, we can see most sequences are shorter than 25. Therefore, we can set maximum length to 25 for truncating/padding the input sequences."
   ]
  },
  {
   "cell_type": "code",
   "execution_count": 173,
   "metadata": {},
   "outputs": [],
   "source": [
    "# set max length of comments to 25\n",
    "maxlen = 25"
   ]
  },
  {
   "cell_type": "markdown",
   "metadata": {},
   "source": [
    "### 2. Modeling\n",
    "a. Create and compile a model using tf.keras.Sequential to predict the emotion label from the text. Start with an embedding layer and build an architecture from dense, LSTM, GRU, bidirectional LSTM or GRU, and dropout layers. Compile the model using a choice of optimizer, sparse_binary_crossentropy for the loss, and the metric set to accuracy."
   ]
  },
  {
   "cell_type": "code",
   "execution_count": 174,
   "metadata": {},
   "outputs": [],
   "source": [
    "from tensorflow.keras.preprocessing.sequence import pad_sequences"
   ]
  },
  {
   "cell_type": "code",
   "execution_count": 175,
   "metadata": {},
   "outputs": [],
   "source": [
    "# padding the data\n",
    "X_train = pad_sequences(train_sequences, maxlen=maxlen)\n",
    "X_val = pad_sequences(val_sequences, maxlen=maxlen)\n",
    "X_test = pad_sequences(test_sequences, maxlen=maxlen)"
   ]
  },
  {
   "cell_type": "code",
   "execution_count": 176,
   "metadata": {},
   "outputs": [
    {
     "data": {
      "text/plain": [
       "(3613, 25)"
      ]
     },
     "execution_count": 176,
     "metadata": {},
     "output_type": "execute_result"
    }
   ],
   "source": [
    "# display the shape of X_train\n",
    "X_train.shape"
   ]
  },
  {
   "cell_type": "code",
   "execution_count": 177,
   "metadata": {},
   "outputs": [],
   "source": [
    "from tensorflow.keras.models import Sequential\n",
    "from tensorflow.keras.layers import Dense, Embedding, SpatialDropout1D, Dropout, GRU, LSTM"
   ]
  },
  {
   "cell_type": "code",
   "execution_count": 178,
   "metadata": {},
   "outputs": [],
   "source": [
    "#def set_state(seed=88):\n",
    "#  np.random.seed(seed)\n",
    "#  tf.random.set_seed(seed)"
   ]
  },
  {
   "cell_type": "code",
   "execution_count": 179,
   "metadata": {},
   "outputs": [
    {
     "name": "stdout",
     "output_type": "stream",
     "text": [
      "Model: \"sequential_9\"\n",
      "_________________________________________________________________\n",
      " Layer (type)                Output Shape              Param #   \n",
      "=================================================================\n",
      " embedding_9 (Embedding)     (None, None, 32)          320000    \n",
      "                                                                 \n",
      " spatial_dropout1d_9 (Spati  (None, None, 32)          0         \n",
      " alDropout1D)                                                    \n",
      "                                                                 \n",
      " lstm_12 (LSTM)              (None, None, 64)          24832     \n",
      "                                                                 \n",
      " lstm_13 (LSTM)              (None, 64)                33024     \n",
      "                                                                 \n",
      " dropout_27 (Dropout)        (None, 64)                0         \n",
      "                                                                 \n",
      " dense_27 (Dense)            (None, 32)                2080      \n",
      "                                                                 \n",
      " dropout_28 (Dropout)        (None, 32)                0         \n",
      "                                                                 \n",
      " dense_28 (Dense)            (None, 32)                1056      \n",
      "                                                                 \n",
      " dropout_29 (Dropout)        (None, 32)                0         \n",
      "                                                                 \n",
      " dense_29 (Dense)            (None, 4)                 132       \n",
      "                                                                 \n",
      "=================================================================\n",
      "Total params: 381124 (1.45 MB)\n",
      "Trainable params: 381124 (1.45 MB)\n",
      "Non-trainable params: 0 (0.00 Byte)\n",
      "_________________________________________________________________\n"
     ]
    }
   ],
   "source": [
    "#set_state\n",
    "model_lstm = Sequential()\n",
    "model_lstm.add(Embedding(vocab_size, output_dim=32))\n",
    "model_lstm.add(SpatialDropout1D(0.4))\n",
    "model_lstm.add(LSTM(64, return_sequences=True))\n",
    "model_lstm.add(LSTM(64, return_sequences=False))\n",
    "model_lstm.add(Dropout(0.4))\n",
    "model_lstm.add(Dense(32, activation='relu'))\n",
    "model_lstm.add(Dropout(0.4))\n",
    "model_lstm.add(Dense(32, activation='relu'))\n",
    "model_lstm.add(Dropout(0.4))\n",
    "model_lstm.add(Dense(4, activation='softmax'))\n",
    "# compile the model\n",
    "model_lstm.compile(loss='sparse_categorical_crossentropy', optimizer='rmsprop', metrics=['accuracy'])\n",
    "# display model summarey\n",
    "model_lstm.summary()"
   ]
  },
  {
   "cell_type": "markdown",
   "metadata": {},
   "source": [
    "b. Train the model on the training data without using a validation split. Calculate and record the training accuracy."
   ]
  },
  {
   "cell_type": "code",
   "execution_count": 180,
   "metadata": {},
   "outputs": [
    {
     "name": "stdout",
     "output_type": "stream",
     "text": [
      "Epoch 1/30\n",
      "29/29 - 4s - loss: 1.3805 - accuracy: 0.3089 - 4s/epoch - 139ms/step\n",
      "Epoch 2/30\n",
      "29/29 - 2s - loss: 1.3768 - accuracy: 0.3180 - 2s/epoch - 53ms/step\n",
      "Epoch 3/30\n",
      "29/29 - 2s - loss: 1.3771 - accuracy: 0.3180 - 2s/epoch - 60ms/step\n",
      "Epoch 4/30\n",
      "29/29 - 2s - loss: 1.3755 - accuracy: 0.3180 - 2s/epoch - 61ms/step\n",
      "Epoch 5/30\n",
      "29/29 - 2s - loss: 1.3683 - accuracy: 0.3202 - 2s/epoch - 62ms/step\n",
      "Epoch 6/30\n",
      "29/29 - 2s - loss: 1.3322 - accuracy: 0.3712 - 2s/epoch - 65ms/step\n",
      "Epoch 7/30\n",
      "29/29 - 2s - loss: 1.2018 - accuracy: 0.4589 - 2s/epoch - 60ms/step\n",
      "Epoch 8/30\n",
      "29/29 - 2s - loss: 1.0643 - accuracy: 0.5068 - 2s/epoch - 61ms/step\n",
      "Epoch 9/30\n",
      "29/29 - 2s - loss: 0.9614 - accuracy: 0.5414 - 2s/epoch - 61ms/step\n",
      "Epoch 10/30\n",
      "29/29 - 2s - loss: 0.8763 - accuracy: 0.5851 - 2s/epoch - 57ms/step\n",
      "Epoch 11/30\n",
      "29/29 - 2s - loss: 0.7884 - accuracy: 0.6427 - 2s/epoch - 57ms/step\n",
      "Epoch 12/30\n",
      "29/29 - 2s - loss: 0.7427 - accuracy: 0.6609 - 2s/epoch - 56ms/step\n",
      "Epoch 13/30\n",
      "29/29 - 2s - loss: 0.6758 - accuracy: 0.7027 - 2s/epoch - 58ms/step\n",
      "Epoch 14/30\n",
      "29/29 - 2s - loss: 0.6076 - accuracy: 0.7495 - 2s/epoch - 55ms/step\n",
      "Epoch 15/30\n",
      "29/29 - 2s - loss: 0.5426 - accuracy: 0.7861 - 2s/epoch - 56ms/step\n",
      "Epoch 16/30\n",
      "29/29 - 2s - loss: 0.4886 - accuracy: 0.8278 - 2s/epoch - 53ms/step\n",
      "Epoch 17/30\n",
      "29/29 - 1s - loss: 0.4188 - accuracy: 0.8691 - 1s/epoch - 51ms/step\n",
      "Epoch 18/30\n",
      "29/29 - 2s - loss: 0.3432 - accuracy: 0.8923 - 2s/epoch - 54ms/step\n",
      "Epoch 19/30\n",
      "29/29 - 1s - loss: 0.2943 - accuracy: 0.9120 - 1s/epoch - 51ms/step\n",
      "Epoch 20/30\n",
      "29/29 - 1s - loss: 0.2550 - accuracy: 0.9247 - 1s/epoch - 52ms/step\n",
      "Epoch 21/30\n",
      "29/29 - 2s - loss: 0.2308 - accuracy: 0.9397 - 2s/epoch - 53ms/step\n",
      "Epoch 22/30\n",
      "29/29 - 2s - loss: 0.2299 - accuracy: 0.9430 - 2s/epoch - 54ms/step\n",
      "Epoch 23/30\n",
      "29/29 - 2s - loss: 0.1963 - accuracy: 0.9469 - 2s/epoch - 59ms/step\n",
      "Epoch 24/30\n",
      "29/29 - 2s - loss: 0.1828 - accuracy: 0.9529 - 2s/epoch - 56ms/step\n",
      "Epoch 25/30\n",
      "29/29 - 2s - loss: 0.1683 - accuracy: 0.9502 - 2s/epoch - 59ms/step\n",
      "Epoch 26/30\n",
      "29/29 - 2s - loss: 0.1571 - accuracy: 0.9579 - 2s/epoch - 57ms/step\n",
      "Epoch 27/30\n",
      "29/29 - 2s - loss: 0.1428 - accuracy: 0.9607 - 2s/epoch - 56ms/step\n",
      "Epoch 28/30\n",
      "29/29 - 2s - loss: 0.1536 - accuracy: 0.9618 - 2s/epoch - 55ms/step\n",
      "Epoch 29/30\n",
      "29/29 - 2s - loss: 0.1274 - accuracy: 0.9673 - 2s/epoch - 57ms/step\n",
      "Epoch 30/30\n",
      "29/29 - 2s - loss: 0.1285 - accuracy: 0.9651 - 2s/epoch - 56ms/step\n"
     ]
    }
   ],
   "source": [
    "#set_state\n",
    "# train the model\n",
    "history_lstm = model_lstm.fit(X_train, train_labels_2d, batch_size=128, epochs = 30, verbose = 2)"
   ]
  },
  {
   "cell_type": "code",
   "execution_count": 181,
   "metadata": {},
   "outputs": [
    {
     "name": "stdout",
     "output_type": "stream",
     "text": [
      "Training Accuracy(last 10 epochs):\n",
      "\n"
     ]
    },
    {
     "data": {
      "text/plain": [
       "[0.9396623373031616,\n",
       " 0.9429836869239807,\n",
       " 0.9468585848808289,\n",
       " 0.9529476761817932,\n",
       " 0.950179934501648,\n",
       " 0.9579296708106995,\n",
       " 0.9606974720954895,\n",
       " 0.9618045687675476,\n",
       " 0.9673401713371277,\n",
       " 0.9651259183883667]"
      ]
     },
     "execution_count": 181,
     "metadata": {},
     "output_type": "execute_result"
    }
   ],
   "source": [
    "# get the training accuarcy\n",
    "training_accuracy = history_lstm.history['accuracy']\n",
    "# display traning accuacy for last 10 epochs\n",
    "print(\"Training Accuracy(last 10 epochs):\\n\")\n",
    "training_accuracy[-10:]"
   ]
  },
  {
   "cell_type": "code",
   "execution_count": 182,
   "metadata": {},
   "outputs": [],
   "source": [
    "from sklearn.metrics import accuracy_score, confusion_matrix, ConfusionMatrixDisplay"
   ]
  },
  {
   "cell_type": "code",
   "execution_count": 183,
   "metadata": {},
   "outputs": [
    {
     "name": "stdout",
     "output_type": "stream",
     "text": [
      "11/11 [==============================] - 1s 9ms/step\n",
      "Prediction on validation data is 72.6%\n"
     ]
    }
   ],
   "source": [
    "# get prediction\n",
    "val_pred = model_lstm.predict(X_val)\n",
    "val_pred = np.argmax(val_pred, axis=1)\n",
    "# get accuarcy\n",
    "accuracy = accuracy_score(val_labels_2d, val_pred)\n",
    "print(f'Prediction on validation data is {accuracy*100:.1f}%')"
   ]
  },
  {
   "cell_type": "code",
   "execution_count": 184,
   "metadata": {},
   "outputs": [
    {
     "data": {
      "image/png": "[encoded data removed]",
      "text/plain": [
       "<Figure size 640x480 with 2 Axes>"
      ]
     },
     "metadata": {},
     "output_type": "display_data"
    }
   ],
   "source": [
    "# get confusion matrix\n",
    "conf_mat = confusion_matrix(val_labels_2d, val_pred)\n",
    "# display the confusion matrix\n",
    "disp = ConfusionMatrixDisplay(confusion_matrix=conf_mat, display_labels=label_content)\n",
    "disp.plot()\n",
    "plt.show()"
   ]
  },
  {
   "cell_type": "markdown",
   "metadata": {},
   "source": [
    "d. Revisit the previous steps to make at least three models in total by changing architecture and hyperparameters."
   ]
  },
  {
   "cell_type": "code",
   "execution_count": 185,
   "metadata": {},
   "outputs": [
    {
     "name": "stdout",
     "output_type": "stream",
     "text": [
      "Model: \"sequential_10\"\n",
      "_________________________________________________________________\n",
      " Layer (type)                Output Shape              Param #   \n",
      "=================================================================\n",
      " embedding_10 (Embedding)    (None, 25, 32)            320000    \n",
      "                                                                 \n",
      " bidirectional_6 (Bidirecti  (None, 25, 128)           49664     \n",
      " onal)                                                           \n",
      "                                                                 \n",
      " spatial_dropout1d_10 (Spat  (None, 25, 128)           0         \n",
      " ialDropout1D)                                                   \n",
      "                                                                 \n",
      " bidirectional_7 (Bidirecti  (None, 128)               98816     \n",
      " onal)                                                           \n",
      "                                                                 \n",
      " dropout_30 (Dropout)        (None, 128)               0         \n",
      "                                                                 \n",
      " dense_30 (Dense)            (None, 32)                4128      \n",
      "                                                                 \n",
      " dropout_31 (Dropout)        (None, 32)                0         \n",
      "                                                                 \n",
      " dense_31 (Dense)            (None, 32)                1056      \n",
      "                                                                 \n",
      " dropout_32 (Dropout)        (None, 32)                0         \n",
      "                                                                 \n",
      " dense_32 (Dense)            (None, 4)                 132       \n",
      "                                                                 \n",
      "=================================================================\n",
      "Total params: 473796 (1.81 MB)\n",
      "Trainable params: 473796 (1.81 MB)\n",
      "Non-trainable params: 0 (0.00 Byte)\n",
      "_________________________________________________________________\n"
     ]
    }
   ],
   "source": [
    "from tensorflow.keras.layers import Bidirectional\n",
    "\n",
    "# Definining our Bidiresctional model\n",
    "model_bidirectional_lstm = Sequential()\n",
    "model_bidirectional_lstm.add(Embedding(vocab_size, output_dim=32, input_length=maxlen))\n",
    "model_bidirectional_lstm.add(Bidirectional(LSTM(64, return_sequences=True)))\n",
    "model_bidirectional_lstm.add(SpatialDropout1D(0.4))\n",
    "model_bidirectional_lstm.add(Bidirectional(LSTM(64, return_sequences=False)))\n",
    "model_bidirectional_lstm.add(Dropout(0.4))\n",
    "model_bidirectional_lstm.add(Dense(32, activation='relu'))\n",
    "model_bidirectional_lstm.add(Dropout(0.4))\n",
    "model_bidirectional_lstm.add(Dense(32, activation='relu'))\n",
    "model_bidirectional_lstm.add(Dropout(0.4))\n",
    "model_bidirectional_lstm.add(Dense(4, activation='softmax'))\n",
    "\n",
    "# Compiling our model\n",
    "model_bidirectional_lstm.compile(loss='sparse_categorical_crossentropy', optimizer='adam', metrics=['accuracy'])\n",
    "\n",
    "# Display our bidirectional model summary\n",
    "model_bidirectional_lstm.summary()"
   ]
  },
  {
   "cell_type": "code",
   "execution_count": 186,
   "metadata": {},
   "outputs": [
    {
     "name": "stdout",
     "output_type": "stream",
     "text": [
      "Epoch 1/30\n",
      "29/29 - 8s - loss: 1.3813 - accuracy: 0.2892 - 8s/epoch - 268ms/step\n",
      "Epoch 2/30\n",
      "29/29 - 4s - loss: 1.3789 - accuracy: 0.3164 - 4s/epoch - 150ms/step\n",
      "Epoch 3/30\n",
      "29/29 - 4s - loss: 1.3734 - accuracy: 0.3169 - 4s/epoch - 145ms/step\n",
      "Epoch 4/30\n",
      "29/29 - 4s - loss: 1.1399 - accuracy: 0.4370 - 4s/epoch - 153ms/step\n",
      "Epoch 5/30\n",
      "29/29 - 4s - loss: 0.9501 - accuracy: 0.5234 - 4s/epoch - 147ms/step\n",
      "Epoch 6/30\n"
     ]
    }
   ],
   "source": [
    "# Train the bidirectional model\n",
    "history_bidirectional_lstm = model_bidirectional_lstm.fit(X_train, train_labels_2d, batch_size=128, epochs = 30, verbose = 2)"
   ]
  },
  {
   "cell_type": "code",
   "execution_count": null,
   "metadata": {},
   "outputs": [
    {
     "name": "stdout",
     "output_type": "stream",
     "text": [
      "Training Accuracy(last 10 epochs):\n",
      "\n"
     ]
    },
    {
     "data": {
      "text/plain": [
       "[0.9781345129013062,\n",
       " 0.9795184135437012,\n",
       " 0.9731525182723999,\n",
       " 0.9767506122589111,\n",
       " 0.9773041605949402,\n",
       " 0.9809023141860962,\n",
       " 0.9781345129013062,\n",
       " 0.9809023141860962,\n",
       " 0.9795184135437012,\n",
       " 0.9803487658500671]"
      ]
     },
     "execution_count": 137,
     "metadata": {},
     "output_type": "execute_result"
    }
   ],
   "source": [
    "# get the training accuarcy for our bidirectional model\n",
    "training_accuracy_bi = history_bidirectional_lstm.history['accuracy']\n",
    "# displaying the traning accuacy for last 10 epochs for our bidirectional model\n",
    "print(\"Training Accuracy(last 10 epochs):\\n\")\n",
    "training_accuracy_bi[-10:]"
   ]
  },
  {
   "cell_type": "code",
   "execution_count": null,
   "metadata": {},
   "outputs": [
    {
     "name": "stdout",
     "output_type": "stream",
     "text": [
      "11/11 [==============================] - 1s 14ms/step\n",
      "Prediction on validation data is 77.2%\n"
     ]
    }
   ],
   "source": [
    "# get prediction for our bidirectional model\n",
    "val_pred_bi = model_bidirectional_lstm.predict(X_val)\n",
    "val_pred_bi = np.argmax(val_pred_bi, axis=1)\n",
    "# get accuarcy for our bidirectional model\n",
    "accuracy_bi = accuracy_score(val_labels_2d, val_pred_bi)\n",
    "print(f'Prediction on validation data is {accuracy_bi*100:.1f}%')"
   ]
  },
  {
   "cell_type": "code",
   "execution_count": null,
   "metadata": {},
   "outputs": [
    {
     "data": {
      "image/png": "[encoded data removed]",
      "text/plain": [
       "<Figure size 640x480 with 2 Axes>"
      ]
     },
     "metadata": {},
     "output_type": "display_data"
    }
   ],
   "source": [
    "# get confusion matrix for our bidirectional model\n",
    "conf_mat_bi = confusion_matrix(val_labels_2d, val_pred_bi)\n",
    "# display the confusion matrix for our bidirectional model\n",
    "disp_bi = ConfusionMatrixDisplay(confusion_matrix=conf_mat_bi, display_labels=label_content)\n",
    "disp_bi.plot()\n",
    "plt.show()"
   ]
  },
  {
   "cell_type": "code",
   "execution_count": null,
   "metadata": {},
   "outputs": [
    {
     "name": "stdout",
     "output_type": "stream",
     "text": [
      "Model: \"sequential_8\"\n",
      "_________________________________________________________________\n",
      " Layer (type)                Output Shape              Param #   \n",
      "=================================================================\n",
      " embedding_8 (Embedding)     (None, 25, 32)            320000    \n",
      "                                                                 \n",
      " spatial_dropout1d_8 (Spati  (None, 25, 32)            0         \n",
      " alDropout1D)                                                    \n",
      "                                                                 \n",
      " gru_4 (GRU)                 (None, 25, 64)            18816     \n",
      "                                                                 \n",
      " gru_5 (GRU)                 (None, 64)                24960     \n",
      "                                                                 \n",
      " dropout_24 (Dropout)        (None, 64)                0         \n",
      "                                                                 \n",
      " dense_24 (Dense)            (None, 32)                2080      \n",
      "                                                                 \n",
      " dropout_25 (Dropout)        (None, 32)                0         \n",
      "                                                                 \n",
      " dense_25 (Dense)            (None, 32)                1056      \n",
      "                                                                 \n",
      " dropout_26 (Dropout)        (None, 32)                0         \n",
      "                                                                 \n",
      " dense_26 (Dense)            (None, 4)                 132       \n",
      "                                                                 \n",
      "=================================================================\n",
      "Total params: 367044 (1.40 MB)\n",
      "Trainable params: 367044 (1.40 MB)\n",
      "Non-trainable params: 0 (0.00 Byte)\n",
      "_________________________________________________________________\n"
     ]
    }
   ],
   "source": [
    "from tensorflow.keras.layers import GRU, GlobalMaxPooling1D\n",
    "\n",
    "# Defining our GRU model\n",
    "model_gru = Sequential()\n",
    "model_gru.add(Embedding(vocab_size, output_dim=32, input_length=maxlen))\n",
    "model_gru.add(SpatialDropout1D(0.4))\n",
    "model_gru.add(GRU(64, return_sequences=True))\n",
    "model_gru.add(GRU(64, return_sequences=False))\n",
    "model_gru.add(Dropout(0.4))\n",
    "model_gru.add(Dense(32, activation='relu'))\n",
    "model_gru.add(Dropout(0.4))\n",
    "model_gru.add(Dense(32, activation='relu'))\n",
    "model_gru.add(Dropout(0.4))\n",
    "model_gru.add(Dense(4, activation='softmax'))\n",
    "\n",
    "# Compiling our GRU model\n",
    "model_gru.compile(loss='sparse_categorical_crossentropy', optimizer='adam', metrics=['accuracy'])\n",
    "\n",
    "# Displaying our GRU model summary\n",
    "model_gru.summary()"
   ]
  },
  {
   "cell_type": "code",
   "execution_count": null,
   "metadata": {},
   "outputs": [
    {
     "name": "stdout",
     "output_type": "stream",
     "text": [
      "Epoch 1/30\n",
      "29/29 - 3s - loss: 1.3803 - accuracy: 0.3056 - 3s/epoch - 121ms/step\n",
      "Epoch 2/30\n",
      "29/29 - 1s - loss: 1.3650 - accuracy: 0.3194 - 1s/epoch - 44ms/step\n",
      "Epoch 3/30\n",
      "29/29 - 1s - loss: 1.1828 - accuracy: 0.4409 - 1s/epoch - 48ms/step\n",
      "Epoch 4/30\n",
      "29/29 - 1s - loss: 0.9504 - accuracy: 0.5212 - 1s/epoch - 47ms/step\n",
      "Epoch 5/30\n",
      "29/29 - 1s - loss: 0.8190 - accuracy: 0.6001 - 1s/epoch - 47ms/step\n",
      "Epoch 6/30\n",
      "29/29 - 1s - loss: 0.7147 - accuracy: 0.6488 - 1s/epoch - 47ms/step\n",
      "Epoch 7/30\n",
      "29/29 - 1s - loss: 0.5883 - accuracy: 0.7396 - 1s/epoch - 45ms/step\n",
      "Epoch 8/30\n",
      "29/29 - 1s - loss: 0.4885 - accuracy: 0.8220 - 1s/epoch - 44ms/step\n",
      "Epoch 9/30\n",
      "29/29 - 1s - loss: 0.3541 - accuracy: 0.8918 - 1s/epoch - 43ms/step\n",
      "Epoch 10/30\n",
      "29/29 - 1s - loss: 0.3104 - accuracy: 0.9128 - 1s/epoch - 44ms/step\n",
      "Epoch 11/30\n",
      "29/29 - 1s - loss: 0.2453 - accuracy: 0.9355 - 1s/epoch - 45ms/step\n",
      "Epoch 12/30\n",
      "29/29 - 1s - loss: 0.1924 - accuracy: 0.9488 - 1s/epoch - 44ms/step\n",
      "Epoch 13/30\n",
      "29/29 - 1s - loss: 0.1739 - accuracy: 0.9521 - 1s/epoch - 44ms/step\n",
      "Epoch 14/30\n",
      "29/29 - 1s - loss: 0.1444 - accuracy: 0.9635 - 1s/epoch - 44ms/step\n",
      "Epoch 15/30\n",
      "29/29 - 1s - loss: 0.1600 - accuracy: 0.9582 - 1s/epoch - 45ms/step\n",
      "Epoch 16/30\n",
      "29/29 - 1s - loss: 0.1249 - accuracy: 0.9676 - 1s/epoch - 44ms/step\n",
      "Epoch 17/30\n",
      "29/29 - 1s - loss: 0.1261 - accuracy: 0.9679 - 1s/epoch - 44ms/step\n",
      "Epoch 18/30\n",
      "29/29 - 1s - loss: 0.1391 - accuracy: 0.9635 - 1s/epoch - 45ms/step\n",
      "Epoch 19/30\n",
      "29/29 - 1s - loss: 0.1149 - accuracy: 0.9729 - 1s/epoch - 45ms/step\n",
      "Epoch 20/30\n",
      "29/29 - 1s - loss: 0.1106 - accuracy: 0.9709 - 1s/epoch - 45ms/step\n",
      "Epoch 21/30\n",
      "29/29 - 1s - loss: 0.1064 - accuracy: 0.9726 - 1s/epoch - 44ms/step\n",
      "Epoch 22/30\n",
      "29/29 - 1s - loss: 0.1024 - accuracy: 0.9745 - 1s/epoch - 43ms/step\n",
      "Epoch 23/30\n",
      "29/29 - 1s - loss: 0.0957 - accuracy: 0.9768 - 1s/epoch - 43ms/step\n",
      "Epoch 24/30\n",
      "29/29 - 1s - loss: 0.1005 - accuracy: 0.9737 - 1s/epoch - 45ms/step\n",
      "Epoch 25/30\n",
      "29/29 - 1s - loss: 0.0881 - accuracy: 0.9776 - 1s/epoch - 44ms/step\n",
      "Epoch 26/30\n",
      "29/29 - 1s - loss: 0.0825 - accuracy: 0.9770 - 1s/epoch - 43ms/step\n",
      "Epoch 27/30\n",
      "29/29 - 1s - loss: 0.0849 - accuracy: 0.9748 - 1s/epoch - 43ms/step\n",
      "Epoch 28/30\n",
      "29/29 - 1s - loss: 0.0902 - accuracy: 0.9787 - 1s/epoch - 43ms/step\n",
      "Epoch 29/30\n",
      "29/29 - 1s - loss: 0.0788 - accuracy: 0.9756 - 1s/epoch - 43ms/step\n",
      "Epoch 30/30\n",
      "29/29 - 1s - loss: 0.0789 - accuracy: 0.9795 - 1s/epoch - 45ms/step\n"
     ]
    }
   ],
   "source": [
    "# Training our GRU model\n",
    "history_gru = model_gru.fit(X_train, train_labels_2d, batch_size=128, epochs=30, verbose=2)"
   ]
  },
  {
   "cell_type": "code",
   "execution_count": null,
   "metadata": {},
   "outputs": [
    {
     "name": "stdout",
     "output_type": "stream",
     "text": [
      "Training Accuracy(last 10 epochs):\n",
      "\n"
     ]
    },
    {
     "data": {
      "text/plain": [
       "[0.9725989699363708,\n",
       " 0.9745364189147949,\n",
       " 0.9767506122589111,\n",
       " 0.973706066608429,\n",
       " 0.9775809645652771,\n",
       " 0.977027416229248,\n",
       " 0.9748131632804871,\n",
       " 0.9786880612373352,\n",
       " 0.975643515586853,\n",
       " 0.9795184135437012]"
      ]
     },
     "execution_count": 142,
     "metadata": {},
     "output_type": "execute_result"
    }
   ],
   "source": [
    "# get the training accuarcy of our GRU model\n",
    "training_accuracy_gru = history_gru.history['accuracy']\n",
    "# display traning accuacy for last 10 epochs of our GRU model\n",
    "print(\"Training Accuracy(last 10 epochs):\\n\")\n",
    "training_accuracy_gru[-10:]"
   ]
  },
  {
   "cell_type": "code",
   "execution_count": null,
   "metadata": {},
   "outputs": [
    {
     "name": "stdout",
     "output_type": "stream",
     "text": [
      "11/11 [==============================] - 0s 6ms/step\n",
      "Prediction on validation data is 77.2%\n"
     ]
    }
   ],
   "source": [
    "# get prediction for our GRU model\n",
    "val_pred_gru = model_gru.predict(X_val)\n",
    "val_pred_gru = np.argmax(val_pred_gru, axis=1)\n",
    "# get accuarcy for our GRU model\n",
    "accuracy_gru = accuracy_score(val_labels_2d, val_pred_gru)\n",
    "print(f'Prediction on validation data is {accuracy_gru*100:.1f}%')"
   ]
  },
  {
   "cell_type": "code",
   "execution_count": null,
   "metadata": {},
   "outputs": [
    {
     "data": {
      "image/png": "[encoded data removed]",
      "text/plain": [
       "<Figure size 640x480 with 2 Axes>"
      ]
     },
     "metadata": {},
     "output_type": "display_data"
    }
   ],
   "source": [
    "# get confusion matrix for our GRU model\n",
    "conf_mat_gru = confusion_matrix(val_labels_2d, val_pred_gru)\n",
    "# display the confusion matrix for our GRU model\n",
    "disp_gru = ConfusionMatrixDisplay(confusion_matrix=conf_mat_gru, display_labels=label_content)\n",
    "disp_gru.plot()\n",
    "plt.show()"
   ]
  },
  {
   "cell_type": "markdown",
   "metadata": {},
   "source": [
    "# 3\n"
   ]
  },
  {
   "cell_type": "markdown",
   "metadata": {},
   "source": [
    "## Comment on the relative merits of each model. Select the best model based on quantitative metrics and plots. Use markdown to explain why you feel this is the best model.\n",
    "\n",
    "### LSTM Model:\n",
    "\n",
    "The LSTM model demonstrates a respectable performance with a training accuracy of 96.5%. However, its predictive power on the validation data drops to 72.6%. Delving into the confusion matrix analysis, we observe the following:\n",
    "\n",
    "- **Anger:** Although the model correctly predicts 60 instances, there are 24 failed predictions.\n",
    "- **Fear:**  Although the model correctly predicts 79 instances, there are 31 failed predictions.\n",
    "- **Joy:**   Although the model correctly predicts 60 instances, there are 19 failed predictions.\n",
    "- **Sadness:** Although the model correctly predicts 53 instances, there are 21 failed predictions.\n",
    "\n",
    "### Bidirectional LSTM Model:\n",
    "\n",
    "The Bidirectional LSTM model outperforms the basic LSTM, boasting a training accuracy of 98.0% and achieving a prediction accuracy of 77.2% on the validation set. A closer look at the confusion matrix yields the following insights:\n",
    "\n",
    "- **Anger:** Although the model correctly predicts 68 instances, there are 16 failed predictions.\n",
    "- **Fear:**  Although the model correctly predicts 79 instances, there are 31 failed predictions.\n",
    "- **Joy:**   Although the model correctly predicts 65 instances, there are 14 failed predictions.\n",
    "- **Sadness:** Although the model correctly predicts 56 instances, there are 18 failed predictions.\n",
    "\n",
    "### GRU Model:\n",
    "\n",
    "The GRU model stands out as the most successful among the three, with an impressive training accuracy of 98.0% and a prediction accuracy of 77.2% on the validation data. Examining the confusion matrix provides the following analysis:\n",
    "\n",
    "\n",
    "- **Anger:** Although the model correctly predicts 67 instances, there are 17 failed predictions.\n",
    "- **Fear:**  Although the model correctly predicts 86 instances, there are 24 failed predictions.\n",
    "- **Joy:**   Although the model correctly predicts 62 instances, there are 17 failed predictions.\n",
    "- **Sadness:** Although the model correctly predicts 53 instances, there are 21 failed predictions.\n",
    "\n",
    "Overall, all three models have overfitting problems. The GRU model and Bidirectional LSTM model have similar and better performance than the LSTM model. There is room for refinement, especially in handling sadness. Since GRU model need less computation and training tiem, we can choose GRU model as the best model in this senario.\n"
   ]
  },
  {
   "cell_type": "markdown",
   "metadata": {},
   "source": [
    "## Make predictions on the testing data; calculate the testing accuracy and display the confusion matrix for test data. "
   ]
  },
  {
   "cell_type": "code",
   "execution_count": null,
   "metadata": {},
   "outputs": [
    {
     "name": "stdout",
     "output_type": "stream",
     "text": [
      "99/99 [==============================] - 1s 7ms/step\n",
      "Prediction on testing data is 73.1%\n"
     ]
    }
   ],
   "source": [
    "# get prediction for our GRU model\n",
    "test_pred_gru = model_gru.predict(X_test)\n",
    "test_pred_gru = np.argmax(test_pred_gru, axis=1)\n",
    "# get accuarcy for our GRU model\n",
    "accuracy_gru = accuracy_score(test_labels_2d, test_pred_gru)\n",
    "print(f'Prediction on testing data is {accuracy_gru*100:.1f}%')"
   ]
  },
  {
   "cell_type": "code",
   "execution_count": null,
   "metadata": {},
   "outputs": [
    {
     "data": {
      "image/png": "[encoded data removed]",
      "text/plain": [
       "<Figure size 640x480 with 2 Axes>"
      ]
     },
     "metadata": {},
     "output_type": "display_data"
    }
   ],
   "source": [
    "# get confusion matrix for our GRU model\n",
    "conf_mat_gru = confusion_matrix(test_labels_2d, test_pred_gru)\n",
    "# display the confusion matrix for our GRU model\n",
    "disp_gru = ConfusionMatrixDisplay(confusion_matrix=conf_mat_gru, display_labels=label_content)\n",
    "disp_gru.plot()\n",
    "plt.show()"
   ]
  },
  {
   "cell_type": "markdown",
   "metadata": {},
   "source": [
    "## Use markdown to describe how well you feel your model will work to classify the emotional connotation of a tweet. Provide a quantitative measure of accuracy and describe an shortcomings of the model."
   ]
  },
  {
   "cell_type": "markdown",
   "metadata": {},
   "source": [
    "### Model Evaluation:\n",
    "\n",
    "Our emotional connotation classification model demonstrates a reasonable performance across various datasets. The prediction accuracy metrics are as follows:\n",
    "\n",
    "- Prediction on Testing Data: 73.1%\n",
    "- Prediction on Validation Data: 77.2%\n",
    "- Prediction on Training Data: 98.0%\n",
    "\n",
    "### Confusion Matrix Analysis:\n",
    "\n",
    "Taking a closer look at the confusion matrix, we observe the following:\n",
    "\n",
    "- **Anger:** Out of 760 instances, the model correctly predicts 565, resulting in an recall rate of approximately 74%.\n",
    "- **Fear:** The model correctly predicts 732 instances out of 995, yielding an recall rate of around 74%.\n",
    "- **Joy:** With 542 correct predictions out of 714 instances, the recall rate is approximately 76%.\n",
    "- **Sadness:** The model accurately predicts 457 instances out of 673, resulting in an recall rate of about 68%.\n",
    "\n",
    "### Model Shortcomings:\n",
    "\n",
    "While the model performs reasonably well overall, there are noteworthy shortcomings:\n",
    "\n",
    "- **Sadness Prediction:** The model shows relatively lower accuracy in predicting sadness, achieving only around 68%. This suggests an area for improvement, and further tuning may be needed to enhance the model's recall rate to sadness.\n",
    "\n",
    "In summary, the model exhibits satisfactory performance, especially in predicting joy, but addressing the identified shortcomings, particularly in predicting sadness, would contribute to overall improvement."
   ]
  }
 ],
 "metadata": {
  "kernelspec": {
   "display_name": "Python 3",
   "language": "python",
   "name": "python3"
  },
  "language_info": {
   "codemirror_mode": {
    "name": "ipython",
    "version": 3
   },
   "file_extension": ".py",
   "mimetype": "text/x-python",
   "name": "python",
   "nbconvert_exporter": "python",
   "pygments_lexer": "ipython3",
   "version": "3.8.10"
  }
 },
 "nbformat": 4,
 "nbformat_minor": 2
}
